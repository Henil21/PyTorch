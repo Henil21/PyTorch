{
  "nbformat": 4,
  "nbformat_minor": 0,
  "metadata": {
    "colab": {
      "provenance": [],
      "gpuType": "T4",
      "authorship_tag": "ABX9TyMVuPkEg3F3HTogQ5uNhtnt",
      "include_colab_link": true
    },
    "kernelspec": {
      "name": "python3",
      "display_name": "Python 3"
    },
    "language_info": {
      "name": "python"
    },
    "accelerator": "GPU"
  },
  "cells": [
    {
      "cell_type": "markdown",
      "metadata": {
        "id": "view-in-github",
        "colab_type": "text"
      },
      "source": [
        "<a href=\"https://colab.research.google.com/github/Henil21/PyTorch/blob/main/Pytorch.ipynb\" target=\"_parent\"><img src=\"https://colab.research.google.com/assets/colab-badge.svg\" alt=\"Open In Colab\"/></a>"
      ]
    },
    {
      "cell_type": "code",
      "source": [
        "!nvidia-smi"
      ],
      "metadata": {
        "colab": {
          "base_uri": "https://localhost:8080/"
        },
        "id": "Xb0FKrm2JQxM",
        "outputId": "4c2a2ebf-aadc-4cc3-aec5-bd61ab14af8d"
      },
      "execution_count": 1,
      "outputs": [
        {
          "output_type": "stream",
          "name": "stdout",
          "text": [
            "Tue Oct  8 07:45:34 2024       \n",
            "+---------------------------------------------------------------------------------------+\n",
            "| NVIDIA-SMI 535.104.05             Driver Version: 535.104.05   CUDA Version: 12.2     |\n",
            "|-----------------------------------------+----------------------+----------------------+\n",
            "| GPU  Name                 Persistence-M | Bus-Id        Disp.A | Volatile Uncorr. ECC |\n",
            "| Fan  Temp   Perf          Pwr:Usage/Cap |         Memory-Usage | GPU-Util  Compute M. |\n",
            "|                                         |                      |               MIG M. |\n",
            "|=========================================+======================+======================|\n",
            "|   0  Tesla T4                       Off | 00000000:00:04.0 Off |                    0 |\n",
            "| N/A   39C    P8               9W /  70W |      0MiB / 15360MiB |      0%      Default |\n",
            "|                                         |                      |                  N/A |\n",
            "+-----------------------------------------+----------------------+----------------------+\n",
            "                                                                                         \n",
            "+---------------------------------------------------------------------------------------+\n",
            "| Processes:                                                                            |\n",
            "|  GPU   GI   CI        PID   Type   Process name                            GPU Memory |\n",
            "|        ID   ID                                                             Usage      |\n",
            "|=======================================================================================|\n",
            "|  No running processes found                                                           |\n",
            "+---------------------------------------------------------------------------------------+\n"
          ]
        }
      ]
    },
    {
      "cell_type": "code",
      "execution_count": 2,
      "metadata": {
        "id": "YAwNTL4KF0wq",
        "colab": {
          "base_uri": "https://localhost:8080/"
        },
        "outputId": "0caac5f3-70b3-43f9-90b6-c0d01c6e228c"
      },
      "outputs": [
        {
          "output_type": "stream",
          "name": "stdout",
          "text": [
            "2.4.1+cu121\n"
          ]
        }
      ],
      "source": [
        "import torch\n",
        "import numpy as np\n",
        "import matplotlib.pyplot as plt\n",
        "import pandas as pd\n",
        "import seaborn as sns\n",
        "import sklearn\n",
        "print(torch.__version__)\n"
      ]
    },
    {
      "cell_type": "markdown",
      "source": [
        "\n",
        "\n",
        "---\n",
        "\n"
      ],
      "metadata": {
        "id": "vUXWO-peZ3uj"
      }
    },
    {
      "cell_type": "markdown",
      "source": [
        "##Introduction to tensor🤝\n",
        "### Creating tensors\n",
        "\n",
        "\n",
        ">💡 A scalar is a single number and in tensor-speak it's a zero dimension tensor."
      ],
      "metadata": {
        "id": "_2x65ZQNN1lF"
      }
    },
    {
      "cell_type": "code",
      "source": [
        "# Scaler\n",
        "scaler=torch.tensor(7)\n",
        "scaler"
      ],
      "metadata": {
        "colab": {
          "base_uri": "https://localhost:8080/"
        },
        "id": "mnDoq1XYOJsl",
        "outputId": "285e4c76-4360-4d50-c549-3e5b4504a93b"
      },
      "execution_count": 3,
      "outputs": [
        {
          "output_type": "execute_result",
          "data": {
            "text/plain": [
              "tensor(7)"
            ]
          },
          "metadata": {},
          "execution_count": 3
        }
      ]
    },
    {
      "cell_type": "code",
      "source": [
        "scaler.ndim\n",
        "# return dimensions"
      ],
      "metadata": {
        "colab": {
          "base_uri": "https://localhost:8080/"
        },
        "id": "wMKmjV42O20X",
        "outputId": "fd118d21-bcc6-4a6c-84da-6eb331b862b6"
      },
      "execution_count": 4,
      "outputs": [
        {
          "output_type": "execute_result",
          "data": {
            "text/plain": [
              "0"
            ]
          },
          "metadata": {},
          "execution_count": 4
        }
      ]
    },
    {
      "cell_type": "code",
      "source": [
        "scaler.item()\n",
        "# returns an python int"
      ],
      "metadata": {
        "colab": {
          "base_uri": "https://localhost:8080/"
        },
        "id": "vKEndZvxRZYn",
        "outputId": "f8946983-5f27-46dc-bc5b-05134b4136cd"
      },
      "execution_count": 5,
      "outputs": [
        {
          "output_type": "execute_result",
          "data": {
            "text/plain": [
              "7"
            ]
          },
          "metadata": {},
          "execution_count": 5
        }
      ]
    },
    {
      "cell_type": "markdown",
      "source": [
        "A vector is a single dimension tensor but can contain many numbers.\n",
        "\n",
        "```As in, you could have a vector [3, 2] to describe [bedrooms, bathrooms] in your house. Or you could have [3, 2, 2] to describe [bedrooms, bathrooms, car_parks] in your house.```\n",
        "\n",
        "The important trend here is that a vector is flexible in what it can represent (the same with tensors)."
      ],
      "metadata": {
        "id": "GL6gHnVTRwUI"
      }
    },
    {
      "cell_type": "code",
      "source": [
        "# vector\n",
        "vector=torch.tensor([7,7])\n",
        "print(vector)\n",
        "print(vector.ndim)\n",
        "print(vector.shape )"
      ],
      "metadata": {
        "colab": {
          "base_uri": "https://localhost:8080/"
        },
        "id": "TDi_RmcORjLy",
        "outputId": "e22ee172-4740-4d5f-af1f-a0630fc753b0"
      },
      "execution_count": 6,
      "outputs": [
        {
          "output_type": "stream",
          "name": "stdout",
          "text": [
            "tensor([7, 7])\n",
            "1\n",
            "torch.Size([2])\n"
          ]
        }
      ]
    },
    {
      "cell_type": "code",
      "source": [
        "# MATRIX\n",
        "MATRIX=torch.tensor([[7,8],\n",
        "                     [9,10]])\n",
        "print(MATRIX)\n",
        "print(MATRIX.ndim) #2d matrix\n",
        "print(MATRIX.shape)"
      ],
      "metadata": {
        "colab": {
          "base_uri": "https://localhost:8080/"
        },
        "id": "36uq9xLnR9bO",
        "outputId": "14b82d79-cebe-4d85-d7cb-5933b647580a"
      },
      "execution_count": 7,
      "outputs": [
        {
          "output_type": "stream",
          "name": "stdout",
          "text": [
            "tensor([[ 7,  8],\n",
            "        [ 9, 10]])\n",
            "2\n",
            "torch.Size([2, 2])\n"
          ]
        }
      ]
    },
    {
      "cell_type": "code",
      "source": [
        "print(f'first dimension is {MATRIX[0]}')\n",
        "print(f'second dimension is {MATRIX[1]}')"
      ],
      "metadata": {
        "colab": {
          "base_uri": "https://localhost:8080/"
        },
        "id": "THvMytQnSKlx",
        "outputId": "53c92c32-9df0-46be-e256-010ead22d0f2"
      },
      "execution_count": 8,
      "outputs": [
        {
          "output_type": "stream",
          "name": "stdout",
          "text": [
            "first dimension is tensor([7, 8])\n",
            "second dimension is tensor([ 9, 10])\n"
          ]
        }
      ]
    },
    {
      "cell_type": "code",
      "source": [
        "TENSOR=torch.tensor([[[1,2,3],\n",
        "                      [4,5,6],\n",
        "                      [7,8,9]]])\n",
        "TENSOR\n",
        "# this tensor are fundamental bilding block of nn"
      ],
      "metadata": {
        "colab": {
          "base_uri": "https://localhost:8080/"
        },
        "id": "Rdr0TK6DSeS4",
        "outputId": "3549815f-46fd-4057-f32d-075dd107d21d"
      },
      "execution_count": 9,
      "outputs": [
        {
          "output_type": "execute_result",
          "data": {
            "text/plain": [
              "tensor([[[1, 2, 3],\n",
              "         [4, 5, 6],\n",
              "         [7, 8, 9]]])"
            ]
          },
          "metadata": {},
          "execution_count": 9
        }
      ]
    },
    {
      "cell_type": "code",
      "source": [
        "print(TENSOR.ndim)\n",
        "TENSOR.shape"
      ],
      "metadata": {
        "colab": {
          "base_uri": "https://localhost:8080/"
        },
        "id": "_vOZALwMS3pR",
        "outputId": "2bf3c6cf-6aff-4ae1-b9f6-1e8a9fa58108"
      },
      "execution_count": 10,
      "outputs": [
        {
          "output_type": "stream",
          "name": "stdout",
          "text": [
            "3\n"
          ]
        },
        {
          "output_type": "execute_result",
          "data": {
            "text/plain": [
              "torch.Size([1, 3, 3])"
            ]
          },
          "metadata": {},
          "execution_count": 10
        }
      ]
    },
    {
      "cell_type": "code",
      "source": [
        "TENSOR[0]"
      ],
      "metadata": {
        "colab": {
          "base_uri": "https://localhost:8080/"
        },
        "id": "HKCM2u8nTH0s",
        "outputId": "6adcc52f-69aa-419c-dca7-ff189e493f3c"
      },
      "execution_count": 11,
      "outputs": [
        {
          "output_type": "execute_result",
          "data": {
            "text/plain": [
              "tensor([[1, 2, 3],\n",
              "        [4, 5, 6],\n",
              "        [7, 8, 9]])"
            ]
          },
          "metadata": {},
          "execution_count": 11
        }
      ]
    },
    {
      "cell_type": "markdown",
      "source": [
        "<img src=\"https://raw.githubusercontent.com/mrdbourke/pytorch-deep-learning/main/images/00-pytorch-different-tensor-dimensions.png\">"
      ],
      "metadata": {
        "id": "vQ7PKldhTdYe"
      }
    },
    {
      "cell_type": "markdown",
      "source": [
        "\n",
        "\n",
        "---\n",
        "\n"
      ],
      "metadata": {
        "id": "0hhe3UACX-2_"
      }
    },
    {
      "cell_type": "markdown",
      "source": [
        "### Random Tensor ▶\n",
        "\n",
        "\n",
        "We've established tensors represent some form of data.\n",
        "\n",
        "And machine learning models such as neural networks manipulate and seek patterns within tensors.\n",
        "\n",
        "But when building machine learning models with PyTorch, it's rare you'll create tensors by hand (like what we've been doing).\n",
        "\n",
        "Instead, a machine learning model often starts out with large random tensors of numbers and adjusts these random numbers as it works through data to better represent it.\n",
        "\n",
        "In essence:\n",
        "\n",
        ">**⚡ Start with random numbers -> look at data -> update random numbers -> look at data -> update random numbers...**\n",
        "\n",
        "> As a data scientist, you can define how the machine learning model starts (initialization), looks at data (representation) and updates (optimization) its random numbers.\n",
        "\n",
        "We'll get hands on with these steps later on.\n",
        "\n",
        "For now, let's see how to create a tensor of random numbers.\n",
        "\n",
        "We can do so using `torch.rand()` and passing in the size parameter."
      ],
      "metadata": {
        "id": "hJVz5adOUClR"
      }
    },
    {
      "cell_type": "code",
      "source": [
        "random_tensor=torch.rand(3,4) #size of (3,4)\n",
        "random_tensor"
      ],
      "metadata": {
        "colab": {
          "base_uri": "https://localhost:8080/"
        },
        "id": "URXkxnRRWozA",
        "outputId": "bd7d3a04-bf04-462f-e403-ea6a9b4b074c"
      },
      "execution_count": 12,
      "outputs": [
        {
          "output_type": "execute_result",
          "data": {
            "text/plain": [
              "tensor([[0.2659, 0.8671, 0.2610, 0.9470],\n",
              "        [0.9767, 0.8934, 0.1032, 0.1769],\n",
              "        [0.3755, 0.1686, 0.5400, 0.3493]])"
            ]
          },
          "metadata": {},
          "execution_count": 12
        }
      ]
    },
    {
      "cell_type": "markdown",
      "source": [
        "\n",
        "\n",
        "---\n",
        "\n"
      ],
      "metadata": {
        "id": "aMKNnCqVX7cO"
      }
    },
    {
      "cell_type": "markdown",
      "source": [
        "The flexibility of `torch.rand()` is that *we can adjust the size to be whatever we want.*\n",
        "\n",
        "For example, say **you wanted a random tensor in the common image shape of** `[224, 224, 3] ([height, width, color_channels]).`"
      ],
      "metadata": {
        "id": "z6GxJmyxXrXr"
      }
    },
    {
      "cell_type": "code",
      "source": [
        "# Create a random tensor of size (224, 224, 3)\n",
        "random_image_size_tensor = torch.rand(size=(224, 224, 3))\n",
        "random_image_size_tensor.shape, random_image_size_tensor.ndim"
      ],
      "metadata": {
        "colab": {
          "base_uri": "https://localhost:8080/"
        },
        "id": "Obluqgo6X4nP",
        "outputId": "8c139aee-1067-4e91-df43-801881d34d54"
      },
      "execution_count": 13,
      "outputs": [
        {
          "output_type": "execute_result",
          "data": {
            "text/plain": [
              "(torch.Size([224, 224, 3]), 3)"
            ]
          },
          "metadata": {},
          "execution_count": 13
        }
      ]
    },
    {
      "cell_type": "markdown",
      "source": [
        "\n",
        "\n",
        "---\n",
        "\n"
      ],
      "metadata": {
        "id": "yt_HYuEHaKqg"
      }
    },
    {
      "cell_type": "markdown",
      "source": [
        "**This happens a lot with masking (like masking some of the values in one tensor with zeros to let a model know not to learn them).**\n",
        "\n",
        "Let's create a tensor full of zeros with `torch.zeros()`"
      ],
      "metadata": {
        "id": "yuWF1_J1aHPl"
      }
    },
    {
      "cell_type": "code",
      "source": [
        "# Creating a tensor of all zeros\n",
        "zero=torch.zeros(size=(3,4))\n",
        "zero"
      ],
      "metadata": {
        "colab": {
          "base_uri": "https://localhost:8080/"
        },
        "id": "NLHSFvcpZfht",
        "outputId": "56c022ad-fefe-4e8a-9290-ce8d3337d670"
      },
      "execution_count": 14,
      "outputs": [
        {
          "output_type": "execute_result",
          "data": {
            "text/plain": [
              "tensor([[0., 0., 0., 0.],\n",
              "        [0., 0., 0., 0.],\n",
              "        [0., 0., 0., 0.]])"
            ]
          },
          "metadata": {},
          "execution_count": 14
        }
      ]
    },
    {
      "cell_type": "code",
      "source": [
        "zero.dtype"
      ],
      "metadata": {
        "colab": {
          "base_uri": "https://localhost:8080/"
        },
        "id": "XdqYBsSvaOXn",
        "outputId": "5d4cf74e-7c59-4e33-e3ad-d0337bdac9f2"
      },
      "execution_count": 15,
      "outputs": [
        {
          "output_type": "execute_result",
          "data": {
            "text/plain": [
              "torch.float32"
            ]
          },
          "metadata": {},
          "execution_count": 15
        }
      ]
    },
    {
      "cell_type": "markdown",
      "source": [
        "### Creating a range of tensors and tensors like.🪞"
      ],
      "metadata": {
        "id": "CbcdlYUhaanr"
      }
    },
    {
      "cell_type": "code",
      "source": [
        "torch.arange(0,10)"
      ],
      "metadata": {
        "colab": {
          "base_uri": "https://localhost:8080/"
        },
        "id": "XIVyq1LDamLZ",
        "outputId": "f051c0a8-e844-40f4-e4fb-5cc72dbf3050"
      },
      "execution_count": 16,
      "outputs": [
        {
          "output_type": "execute_result",
          "data": {
            "text/plain": [
              "tensor([0, 1, 2, 3, 4, 5, 6, 7, 8, 9])"
            ]
          },
          "metadata": {},
          "execution_count": 16
        }
      ]
    },
    {
      "cell_type": "code",
      "source": [
        "range=torch.arange(start=0,end=10,step=2)\n",
        "range"
      ],
      "metadata": {
        "colab": {
          "base_uri": "https://localhost:8080/"
        },
        "id": "J2sv8dp4a9bU",
        "outputId": "75975f31-e45e-4238-9196-cc2b94db6efc"
      },
      "execution_count": 17,
      "outputs": [
        {
          "output_type": "execute_result",
          "data": {
            "text/plain": [
              "tensor([0, 2, 4, 6, 8])"
            ]
          },
          "metadata": {},
          "execution_count": 17
        }
      ]
    },
    {
      "cell_type": "code",
      "source": [
        "# Creating tensor like\n",
        "ten_zeros=torch.zeros_like(input=range)\n",
        "ten_zeros"
      ],
      "metadata": {
        "colab": {
          "base_uri": "https://localhost:8080/"
        },
        "id": "A8-ogIvSbILh",
        "outputId": "6cc45be3-9e67-4341-fabc-5174791cf688"
      },
      "execution_count": 18,
      "outputs": [
        {
          "output_type": "execute_result",
          "data": {
            "text/plain": [
              "tensor([0, 0, 0, 0, 0])"
            ]
          },
          "metadata": {},
          "execution_count": 18
        }
      ]
    },
    {
      "cell_type": "markdown",
      "source": [
        "### Tensor datatypes ⬇"
      ],
      "metadata": {
        "id": "Zq1SRuHtcEyV"
      }
    },
    {
      "cell_type": "code",
      "source": [
        "# Default datatype for tensors is float32\n",
        "float_32_tensor = torch.tensor([3.0, 6.0, 9.0],\n",
        "                               dtype=None, # defaults to None, which is torch.float32 or whatever datatype is passed\n",
        "                               device=None, # What device is your tensor on\n",
        "                               requires_grad=False) # whether or not track gradients with this tensors operation\n",
        "\n",
        "float_32_tensor.shape, float_32_tensor.dtype, float_32_tensor.device"
      ],
      "metadata": {
        "colab": {
          "base_uri": "https://localhost:8080/"
        },
        "id": "Ymr9c3iNca3z",
        "outputId": "02ee5873-c9de-4b2b-f285-77d443930587"
      },
      "execution_count": 19,
      "outputs": [
        {
          "output_type": "execute_result",
          "data": {
            "text/plain": [
              "(torch.Size([3]), torch.float32, device(type='cpu'))"
            ]
          },
          "metadata": {},
          "execution_count": 19
        }
      ]
    },
    {
      "cell_type": "code",
      "source": [
        "float_16_tensor=float_32_tensor.type(torch.float16)\n",
        "float_16_tensor"
      ],
      "metadata": {
        "colab": {
          "base_uri": "https://localhost:8080/"
        },
        "id": "aTZy25zCcuBK",
        "outputId": "beab56a3-5593-4a3b-b619-350522af2b98"
      },
      "execution_count": 20,
      "outputs": [
        {
          "output_type": "execute_result",
          "data": {
            "text/plain": [
              "tensor([3., 6., 9.], dtype=torch.float16)"
            ]
          },
          "metadata": {},
          "execution_count": 20
        }
      ]
    },
    {
      "cell_type": "markdown",
      "source": [
        "\n",
        "### Getting information from tensors\n",
        "Once you've created tensors (or someone else or a PyTorch module has created them for you), you might want to get some information from them.\n",
        "\n",
        "We've seen these before but three of the most common attributes you'll want to find out about tensors are:\n",
        "\n",
        "* shape - what shape is the tensor? (some operations require specific shape rules)\n",
        "* dtype - what datatype are the elements within the tensor stored in?\n",
        "* device - what device is the tensor stored on? (usually GPU or CPU)\n",
        "Let's create a random tensor and find out details about it."
      ],
      "metadata": {
        "id": "6paTBhLkHEqD"
      }
    },
    {
      "cell_type": "code",
      "source": [
        "# Let's create a random tensor and find out details about it.\n",
        "\n",
        "# Create a tensor\n",
        "some_tensor = torch.rand(3, 4)\n",
        "\n",
        "# Find out details about it\n",
        "print(some_tensor)\n",
        "print(f\"Shape of tensor: {some_tensor.shape}\")\n",
        "print(f\"Datatype of tensor: {some_tensor.dtype}\")\n",
        "print(f\"Device tensor is stored on: {some_tensor.device}\") # will default to CPU"
      ],
      "metadata": {
        "colab": {
          "base_uri": "https://localhost:8080/"
        },
        "id": "abgqLdDSHThc",
        "outputId": "fb14d43d-fad9-478b-bdd7-2588227c8317"
      },
      "execution_count": 21,
      "outputs": [
        {
          "output_type": "stream",
          "name": "stdout",
          "text": [
            "tensor([[0.1074, 0.5449, 0.1170, 0.3039],\n",
            "        [0.1411, 0.9447, 0.9873, 0.9306],\n",
            "        [0.9796, 0.8402, 0.1688, 0.3605]])\n",
            "Shape of tensor: torch.Size([3, 4])\n",
            "Datatype of tensor: torch.float32\n",
            "Device tensor is stored on: cpu\n"
          ]
        }
      ]
    },
    {
      "cell_type": "markdown",
      "source": [
        "\n",
        "\n",
        "---\n",
        "\n",
        "\n",
        "\n",
        "---\n",
        "\n"
      ],
      "metadata": {
        "id": "MV_u0SeNIZLR"
      }
    },
    {
      "cell_type": "markdown",
      "source": [
        "😆\n",
        "> Note: When you run into issues in PyTorch, it's very often one to do with one of the three attributes above. So when the error messages show up, sing yourself a little song called \"what, what, where\":\n",
        "\n",
        "* what shape are my tensors? what datatype are they and where are they stored? what shape, what datatype, where where where\""
      ],
      "metadata": {
        "id": "uC3uqflkHgdB"
      }
    },
    {
      "cell_type": "markdown",
      "source": [
        "\n",
        "\n",
        "---\n",
        "\n",
        "\n",
        "\n",
        "---\n",
        "\n"
      ],
      "metadata": {
        "id": "QbiQJUdfIXEB"
      }
    },
    {
      "cell_type": "markdown",
      "source": [
        "### Manipulating tensors (tensor operations)\n",
        "In deep learning, data (images, text, video, audio, protein structures, etc) gets represented as tensors.\n",
        "\n",
        "**A model learns by investigating those tensors and performing a series of operations (could be 1,000,000s+) on tensors to create a representation of the patterns in the input data.**\n",
        "\n",
        "These operations are often a wonderful dance between:\n",
        "\n",
        "* Addition\n",
        "* Substraction\n",
        "* Multiplication (element-wise)\n",
        "* Division\n",
        "* Matrix multiplication\n",
        "\n",
        "\n",
        "And that's it. Sure there are a few more here and there but these are the basic building blocks of neural networks.\n",
        "\n",
        "Stacking these building blocks in the right way, you can create the most sophisticated of neural networks (just like lego!)."
      ],
      "metadata": {
        "id": "niXF9Q1MHahS"
      }
    },
    {
      "cell_type": "code",
      "source": [
        "# Create a tensor of values and add a number to it\n",
        "tensor = torch.tensor([1, 2, 3])\n",
        "print(f\"addition {tensor + 10}\")\n",
        "# Multiply it by 10\n",
        "print(f\"Multiplication {tensor * 10}\")\n",
        "# Divide it by 10\n",
        "print(f'division {tensor / 10}')\n"
      ],
      "metadata": {
        "colab": {
          "base_uri": "https://localhost:8080/"
        },
        "id": "CKJ31uW5IbFU",
        "outputId": "d0c3e2e3-f6ff-4ec7-e8d5-30cf17f0c070"
      },
      "execution_count": 34,
      "outputs": [
        {
          "output_type": "stream",
          "name": "stdout",
          "text": [
            "addition tensor([11, 12, 13])\n",
            "Multiplication tensor([10, 20, 30])\n",
            "division tensor([0.1000, 0.2000, 0.3000])\n"
          ]
        }
      ]
    },
    {
      "cell_type": "markdown",
      "source": [
        "\n",
        "\n",
        "---\n",
        "\n"
      ],
      "metadata": {
        "id": "VKXfnY3xJzjn"
      }
    },
    {
      "cell_type": "markdown",
      "source": [
        "\n",
        "### Matrix multiplication (is all you need)\n",
        "\n",
        "One of the most common operations in machine learning and deep learning algorithms (like neural networks) is matrix multiplication.\n",
        "\n",
        "PyTorch implements matrix multiplication functionality in the torch.matmul() method.\n",
        "\n",
        "The main two rules for matrix multiplication to remember are:\n",
        "\n",
        "The inner dimensions must match:\n",
        "\n",
        "(3, 2) @ (3, 2) won't work\n",
        "\n",
        "(2, 3) @ (3, 2) will work\n",
        "\n",
        "(3, 2) @ (2, 3) will work\n",
        "\n",
        "\n",
        "The resulting matrix has the shape of the outer dimensions:\n",
        "(2, 3) @ (3, 2) -> (2, 2)\n",
        "\n",
        "(3, 2) @ (2, 3) -> (3, 3)\n",
        "\n",
        "\n",
        "\n",
        "\n",
        "> Note: \"@\" in Python is the symbol for matrix multiplication."
      ],
      "metadata": {
        "id": "BcEoBs0lJayr"
      }
    },
    {
      "cell_type": "markdown",
      "source": [
        "![image.png](data:image/png;base64,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)"
      ],
      "metadata": {
        "id": "Lc4qlUURKT3F"
      }
    },
    {
      "cell_type": "code",
      "source": [
        "\n",
        "# Let's create a tensor and perform element-wise multiplication and matrix multiplication on it.\n",
        "import torch\n",
        "tensor = torch.tensor([1, 2, 3])\n",
        "tensor.shape"
      ],
      "metadata": {
        "colab": {
          "base_uri": "https://localhost:8080/"
        },
        "id": "t_SciK_YJ555",
        "outputId": "7fcc1173-8bda-474f-f7fe-71fd879b874c"
      },
      "execution_count": 35,
      "outputs": [
        {
          "output_type": "execute_result",
          "data": {
            "text/plain": [
              "torch.Size([3])"
            ]
          },
          "metadata": {},
          "execution_count": 35
        }
      ]
    },
    {
      "cell_type": "code",
      "source": [
        "# Element-wise matrix multiplication\n",
        "tensor * tensor"
      ],
      "metadata": {
        "colab": {
          "base_uri": "https://localhost:8080/"
        },
        "id": "v2cGYfhHKIHp",
        "outputId": "fa41873c-7da5-4c1a-a36a-9525843b2d58"
      },
      "execution_count": 36,
      "outputs": [
        {
          "output_type": "execute_result",
          "data": {
            "text/plain": [
              "tensor([1, 4, 9])"
            ]
          },
          "metadata": {},
          "execution_count": 36
        }
      ]
    },
    {
      "cell_type": "code",
      "source": [
        "# Matrix multiplication\n",
        "torch.matmul(tensor, tensor)"
      ],
      "metadata": {
        "colab": {
          "base_uri": "https://localhost:8080/"
        },
        "id": "soW4yl6-KLn7",
        "outputId": "e12e29c0-529c-4547-da5e-5d8dc1074bc3"
      },
      "execution_count": 37,
      "outputs": [
        {
          "output_type": "execute_result",
          "data": {
            "text/plain": [
              "tensor(14)"
            ]
          },
          "metadata": {},
          "execution_count": 37
        }
      ]
    },
    {
      "cell_type": "markdown",
      "source": [
        "# **PyTorch Workflow Fundamentals ⚙**"
      ],
      "metadata": {
        "id": "w8EAtdNtGNdG"
      }
    },
    {
      "cell_type": "markdown",
      "source": [
        "<img src=\"https://raw.githubusercontent.com/mrdbourke/pytorch-deep-learning/main/images/01_a_pytorch_workflow.png\">"
      ],
      "metadata": {
        "id": "NxGn-OXaLuYa"
      }
    },
    {
      "cell_type": "code",
      "source": [],
      "metadata": {
        "id": "adZAN_WPG1ci"
      },
      "execution_count": null,
      "outputs": []
    }
  ]
}