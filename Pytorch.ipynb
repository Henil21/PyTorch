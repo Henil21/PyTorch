{
  "nbformat": 4,
  "nbformat_minor": 0,
  "metadata": {
    "colab": {
      "provenance": [],
      "gpuType": "T4",
      "authorship_tag": "ABX9TyNl+AjTtFv43AMntT9L4kC3",
      "include_colab_link": true
    },
    "kernelspec": {
      "name": "python3",
      "display_name": "Python 3"
    },
    "language_info": {
      "name": "python"
    },
    "accelerator": "GPU"
  },
  "cells": [
    {
      "cell_type": "markdown",
      "metadata": {
        "id": "view-in-github",
        "colab_type": "text"
      },
      "source": [
        "<a href=\"https://colab.research.google.com/github/Henil21/PyTorch/blob/main/Pytorch.ipynb\" target=\"_parent\"><img src=\"https://colab.research.google.com/assets/colab-badge.svg\" alt=\"Open In Colab\"/></a>"
      ]
    },
    {
      "cell_type": "code",
      "source": [
        "!nvidia-smi"
      ],
      "metadata": {
        "colab": {
          "base_uri": "https://localhost:8080/"
        },
        "id": "Xb0FKrm2JQxM",
        "outputId": "adf033f0-96aa-461a-eff1-f351ec9cd269"
      },
      "execution_count": 7,
      "outputs": [
        {
          "output_type": "stream",
          "name": "stdout",
          "text": [
            "Wed Sep 25 07:46:28 2024       \n",
            "+---------------------------------------------------------------------------------------+\n",
            "| NVIDIA-SMI 535.104.05             Driver Version: 535.104.05   CUDA Version: 12.2     |\n",
            "|-----------------------------------------+----------------------+----------------------+\n",
            "| GPU  Name                 Persistence-M | Bus-Id        Disp.A | Volatile Uncorr. ECC |\n",
            "| Fan  Temp   Perf          Pwr:Usage/Cap |         Memory-Usage | GPU-Util  Compute M. |\n",
            "|                                         |                      |               MIG M. |\n",
            "|=========================================+======================+======================|\n",
            "|   0  Tesla T4                       Off | 00000000:00:04.0 Off |                    0 |\n",
            "| N/A   50C    P8              10W /  70W |      0MiB / 15360MiB |      0%      Default |\n",
            "|                                         |                      |                  N/A |\n",
            "+-----------------------------------------+----------------------+----------------------+\n",
            "                                                                                         \n",
            "+---------------------------------------------------------------------------------------+\n",
            "| Processes:                                                                            |\n",
            "|  GPU   GI   CI        PID   Type   Process name                            GPU Memory |\n",
            "|        ID   ID                                                             Usage      |\n",
            "|=======================================================================================|\n",
            "|  No running processes found                                                           |\n",
            "+---------------------------------------------------------------------------------------+\n"
          ]
        }
      ]
    },
    {
      "cell_type": "code",
      "execution_count": 11,
      "metadata": {
        "id": "YAwNTL4KF0wq",
        "colab": {
          "base_uri": "https://localhost:8080/"
        },
        "outputId": "92922c0c-b41e-4a09-d969-054d3602ebe2"
      },
      "outputs": [
        {
          "output_type": "stream",
          "name": "stdout",
          "text": [
            "2.4.1+cu121\n"
          ]
        }
      ],
      "source": [
        "import torch\n",
        "import numpy as np\n",
        "import matplotlib.pyplot as plt\n",
        "import pandas as pd\n",
        "import seaborn as sns\n",
        "import sklearn\n",
        "print(torch.__version__)\n"
      ]
    },
    {
      "cell_type": "code",
      "source": [
        "tensor_1=torch.tensor([1,2,3])\n",
        "tensor_2=torch.tensor([4,5,6])\n",
        "print(f\"our tensor are {tensor_1} and {tensor_2}\")"
      ],
      "metadata": {
        "colab": {
          "base_uri": "https://localhost:8080/"
        },
        "id": "9y-tRvHzGvgW",
        "outputId": "3c7efad2-10a2-4728-9d1b-fa0d94e470b5"
      },
      "execution_count": 2,
      "outputs": [
        {
          "output_type": "stream",
          "name": "stdout",
          "text": [
            "our tensor are tensor([1, 2, 3]) and tensor([4, 5, 6])\n"
          ]
        }
      ]
    },
    {
      "cell_type": "code",
      "source": [
        "array_1=np.array([1,2,3])\n",
        "# converting np array into pytorch tensors\n",
        "converted=torch.tensor(array_1)\n",
        "print(converted)"
      ],
      "metadata": {
        "colab": {
          "base_uri": "https://localhost:8080/"
        },
        "id": "DunX-2ZRG_W4",
        "outputId": "6c873131-ca10-4a40-8599-b884bc6ab1a7"
      },
      "execution_count": 3,
      "outputs": [
        {
          "output_type": "stream",
          "name": "stdout",
          "text": [
            "tensor([1, 2, 3])\n"
          ]
        }
      ]
    },
    {
      "cell_type": "markdown",
      "source": [
        "🔑 Note\n",
        "\n",
        "```\n",
        "# torch.empty(4)\n",
        "```\n",
        "Returns a tensor filled with uninitialized data. The shape of the tensor is defined by the variable argument size .\n"
      ],
      "metadata": {
        "id": "E0W2KYZjH7gj"
      }
    },
    {
      "cell_type": "code",
      "source": [
        "empty_tensor=torch.empty(4)\n",
        "print(f\"empty tensors {empty_tensor}\")"
      ],
      "metadata": {
        "colab": {
          "base_uri": "https://localhost:8080/"
        },
        "id": "7XB-trzxHfP7",
        "outputId": "80f6cbbe-65b8-43ea-e10e-abe887c162b8"
      },
      "execution_count": 4,
      "outputs": [
        {
          "output_type": "stream",
          "name": "stdout",
          "text": [
            "empty tensors tensor([1.6479e-42, 1.8524e+28, 0.0000e+00, 0.0000e+00])\n"
          ]
        }
      ]
    },
    {
      "cell_type": "code",
      "source": [
        "zero_tesnor=torch.zeros(2,3)\n",
        "print(f\"zero tensors {zero_tesnor}\")\n",
        "one_tensor=torch.ones(2,3)\n",
        "print(f\"one tensors {one_tensor}\")"
      ],
      "metadata": {
        "colab": {
          "base_uri": "https://localhost:8080/"
        },
        "id": "XVZ363RMJZ_F",
        "outputId": "25d7945a-924e-4376-8743-ad87b30def44"
      },
      "execution_count": 5,
      "outputs": [
        {
          "output_type": "stream",
          "name": "stdout",
          "text": [
            "zero tensors tensor([[0., 0., 0.],\n",
            "        [0., 0., 0.]])\n",
            "one tensors tensor([[1., 1., 1.],\n",
            "        [1., 1., 1.]])\n"
          ]
        }
      ]
    },
    {
      "cell_type": "code",
      "source": [
        "random_tensor=torch.rand(3,3)\n",
        "print(random_tensor)\n",
        "print(random_tensor.dtype)\n",
        "print(random_tensor.shape)\n",
        "print(random_tensor.device)"
      ],
      "metadata": {
        "colab": {
          "base_uri": "https://localhost:8080/"
        },
        "id": "Bns0k6_ZJ0tK",
        "outputId": "420af0cd-7f75-4fd2-eaf5-ef9f037c7236"
      },
      "execution_count": 6,
      "outputs": [
        {
          "output_type": "stream",
          "name": "stdout",
          "text": [
            "tensor([[0.5315, 0.1579, 0.7419],\n",
            "        [0.6461, 0.0216, 0.3836],\n",
            "        [0.2854, 0.7161, 0.5507]])\n",
            "torch.float32\n",
            "torch.Size([3, 3])\n",
            "cpu\n"
          ]
        }
      ]
    }
  ]
}