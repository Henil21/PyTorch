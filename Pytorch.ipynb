{
  "nbformat": 4,
  "nbformat_minor": 0,
  "metadata": {
    "colab": {
      "provenance": [],
      "authorship_tag": "ABX9TyNZxeRNEQT/SIgl687jroNC",
      "include_colab_link": true
    },
    "kernelspec": {
      "name": "python3",
      "display_name": "Python 3"
    },
    "language_info": {
      "name": "python"
    }
  },
  "cells": [
    {
      "cell_type": "markdown",
      "metadata": {
        "id": "view-in-github",
        "colab_type": "text"
      },
      "source": [
        "<a href=\"https://colab.research.google.com/github/Henil21/PyTorch/blob/main/Pytorch.ipynb\" target=\"_parent\"><img src=\"https://colab.research.google.com/assets/colab-badge.svg\" alt=\"Open In Colab\"/></a>"
      ]
    },
    {
      "cell_type": "code",
      "execution_count": 1,
      "metadata": {
        "id": "YAwNTL4KF0wq"
      },
      "outputs": [],
      "source": [
        "import torch\n",
        "import numpy as np\n"
      ]
    },
    {
      "cell_type": "code",
      "source": [
        "tensor_1=torch.tensor([1,2,3])\n",
        "tensor_2=torch.tensor([4,5,6])\n",
        "print(f\"our tensor are {tensor_1} and {tensor_2}\")"
      ],
      "metadata": {
        "colab": {
          "base_uri": "https://localhost:8080/"
        },
        "id": "9y-tRvHzGvgW",
        "outputId": "e5c13e62-1df1-47dd-94ba-bb962c07cd96"
      },
      "execution_count": 2,
      "outputs": [
        {
          "output_type": "stream",
          "name": "stdout",
          "text": [
            "our tensor are tensor([1, 2, 3]) and tensor([4, 5, 6])\n"
          ]
        }
      ]
    },
    {
      "cell_type": "code",
      "source": [
        "array_1=np.array([1,2,3])\n",
        "# converting np array into pytorch tensors\n",
        "converted=torch.tensor(array_1)\n",
        "print(converted)"
      ],
      "metadata": {
        "colab": {
          "base_uri": "https://localhost:8080/"
        },
        "id": "DunX-2ZRG_W4",
        "outputId": "c2fa7915-d8dc-478e-897b-39652fd077cc"
      },
      "execution_count": 4,
      "outputs": [
        {
          "output_type": "stream",
          "name": "stdout",
          "text": [
            "tensor([1, 2, 3])\n"
          ]
        }
      ]
    },
    {
      "cell_type": "markdown",
      "source": [
        "🔑 Note\n",
        "\n",
        "```\n",
        "# torch.empty(4)\n",
        "```\n",
        "Returns a tensor filled with uninitialized data. The shape of the tensor is defined by the variable argument size .\n"
      ],
      "metadata": {
        "id": "E0W2KYZjH7gj"
      }
    },
    {
      "cell_type": "code",
      "source": [
        "empty_tensor=torch.empty(4)\n",
        "print(f\"empty tensors {empty_tensor}\")"
      ],
      "metadata": {
        "colab": {
          "base_uri": "https://localhost:8080/"
        },
        "id": "7XB-trzxHfP7",
        "outputId": "ed97040b-c2c0-40d0-d9f2-a153061341c5"
      },
      "execution_count": 6,
      "outputs": [
        {
          "output_type": "stream",
          "name": "stdout",
          "text": [
            "empty tensors tensor([1.6005e-06, 3.2195e-41, 1.6088e-06, 3.2195e-41])\n"
          ]
        }
      ]
    },
    {
      "cell_type": "code",
      "source": [
        "zero_tesnor=torch.zeros(2,3)\n",
        "print(f\"zero tensors {zero_tesnor}\")\n",
        "one_tensor=torch.ones(2,3)\n",
        "print(f\"one tensors {one_tensor}\")"
      ],
      "metadata": {
        "colab": {
          "base_uri": "https://localhost:8080/"
        },
        "id": "XVZ363RMJZ_F",
        "outputId": "7a600698-b680-4fb2-c30b-58572b1d945d"
      },
      "execution_count": 12,
      "outputs": [
        {
          "output_type": "stream",
          "name": "stdout",
          "text": [
            "zero tensors tensor([[0., 0., 0.],\n",
            "        [0., 0., 0.]])\n",
            "one tensors tensor([[1., 1., 1.],\n",
            "        [1., 1., 1.]])\n"
          ]
        }
      ]
    },
    {
      "cell_type": "code",
      "source": [
        "random_tensor=torch.rand(3,3)\n",
        "print(random_tensor)\n",
        "print(random_tensor.dtype)\n",
        "print(random_tensor.shape)\n",
        "print(random_tensor.device)"
      ],
      "metadata": {
        "colab": {
          "base_uri": "https://localhost:8080/"
        },
        "id": "Bns0k6_ZJ0tK",
        "outputId": "0a1bebec-c1fc-4a7a-a6af-0f56f2c89bfb"
      },
      "execution_count": 14,
      "outputs": [
        {
          "output_type": "stream",
          "name": "stdout",
          "text": [
            "tensor([[0.5113, 0.8159, 0.4050],\n",
            "        [0.1809, 0.8079, 0.5380],\n",
            "        [0.2789, 0.6722, 0.0746]])\n",
            "torch.float32\n",
            "torch.Size([3, 3])\n",
            "cpu\n"
          ]
        }
      ]
    }
  ]
}